{
  "nbformat": 4,
  "nbformat_minor": 0,
  "metadata": {
    "colab": {
      "provenance": [],
      "gpuType": "T4",
      "authorship_tag": "ABX9TyNxBKfdE5h7td3zXJgSsyqn",
      "include_colab_link": true
    },
    "kernelspec": {
      "name": "python3",
      "display_name": "Python 3"
    },
    "language_info": {
      "name": "python"
    },
    "accelerator": "GPU"
  },
  "cells": [
    {
      "cell_type": "markdown",
      "metadata": {
        "id": "view-in-github",
        "colab_type": "text"
      },
      "source": [
        "<a href=\"https://colab.research.google.com/github/Zirwa26/ai_visualization/blob/main/CNN_ALEXNET.ipynb\" target=\"_parent\"><img src=\"https://colab.research.google.com/assets/colab-badge.svg\" alt=\"Open In Colab\"/></a>"
      ]
    },
    {
      "cell_type": "code",
      "execution_count": 12,
      "metadata": {
        "colab": {
          "base_uri": "https://localhost:8080/"
        },
        "id": "aBbaT4RhUfQ9",
        "outputId": "81487f98-2bf9-44dd-90e0-2f05b7b188f6"
      },
      "outputs": [
        {
          "output_type": "stream",
          "name": "stdout",
          "text": [
            "Drive already mounted at /content/drive; to attempt to forcibly remount, call drive.mount(\"/content/drive\", force_remount=True).\n"
          ]
        }
      ],
      "source": [
        "from google.colab import drive\n",
        "drive.mount('/content/drive')\n"
      ]
    },
    {
      "cell_type": "code",
      "source": [
        "from google.colab import drive\n",
        "drive.mount('/content/drive')"
      ],
      "metadata": {
        "id": "xwFt20fv_xUO",
        "outputId": "609e142f-c68c-404d-adc3-c752c1e4e2fe",
        "colab": {
          "base_uri": "https://localhost:8080/"
        }
      },
      "execution_count": 13,
      "outputs": [
        {
          "output_type": "stream",
          "name": "stdout",
          "text": [
            "Drive already mounted at /content/drive; to attempt to forcibly remount, call drive.mount(\"/content/drive\", force_remount=True).\n"
          ]
        }
      ]
    },
    {
      "cell_type": "code",
      "source": [
        "!curl -L -o tiny-imagenet-200.zip https://cs231n.stanford.edu/tiny-imagenet-200.zip\n",
        "\n",
        "\n",
        "\n"
      ],
      "metadata": {
        "colab": {
          "base_uri": "https://localhost:8080/"
        },
        "id": "qQFiGZOqVSZo",
        "outputId": "f15a8bd3-6cfd-40f1-f7af-72bee3909cc2"
      },
      "execution_count": 14,
      "outputs": [
        {
          "output_type": "stream",
          "name": "stdout",
          "text": [
            "  % Total    % Received % Xferd  Average Speed   Time    Time     Time  Current\n",
            "                                 Dload  Upload   Total   Spent    Left  Speed\n",
            "100  236M  100  236M    0     0  29.7M      0  0:00:07  0:00:07 --:--:-- 22.2M\n"
          ]
        }
      ]
    },
    {
      "cell_type": "code",
      "source": [
        "if not os.path.exists('tiny-imagenet-200'):\n",
        "    !unzip -q tiny-imagenet-200.zip\n"
      ],
      "metadata": {
        "id": "zpUV89zjVSWt"
      },
      "execution_count": 15,
      "outputs": []
    },
    {
      "cell_type": "code",
      "source": [
        "data_dir = \"/content/tiny-imagenet-200\"\n"
      ],
      "metadata": {
        "id": "OaIQKEMQVSUS"
      },
      "execution_count": 16,
      "outputs": []
    },
    {
      "cell_type": "code",
      "source": [
        "import os\n",
        "import shutil\n",
        "from pathlib import Path\n",
        "\n",
        "def restructure_val_folder(data_dir):\n",
        "    val_dir = Path(data_dir) / 'val'\n",
        "    images_dir = val_dir / 'images'\n",
        "    ann_file = val_dir / 'val_annotations.txt'\n",
        "\n",
        "    with open(ann_file, 'r') as f:\n",
        "        for line in f.readlines():\n",
        "            img_name, class_name = line.split('\\t')[:2]\n",
        "            class_dir = val_dir / class_name\n",
        "            class_dir.mkdir(exist_ok=True)\n",
        "            shutil.move(str(images_dir / img_name), str(class_dir / img_name))\n",
        "\n",
        "    shutil.rmtree(images_dir)\n",
        "\n",
        "# Set path and restructure val set if needed\n",
        "data_dir = \"/content/tiny-imagenet-200\"\n",
        "if os.path.exists(os.path.join(data_dir, 'val', 'images')):\n",
        "    restructure_val_folder(data_dir)\n"
      ],
      "metadata": {
        "id": "kBAAR5Z4VSRw"
      },
      "execution_count": 17,
      "outputs": []
    },
    {
      "cell_type": "code",
      "source": [
        "import torch\n",
        "from torchvision import datasets, transforms\n",
        "from torch.utils.data import DataLoader\n",
        "\n",
        "batch_size = 128\n",
        "input_size = 64\n",
        "\n",
        "mean = [0.485, 0.456, 0.406]\n",
        "std = [0.229, 0.224, 0.225]\n",
        "\n",
        "transform_train = transforms.Compose([\n",
        "    transforms.RandomResizedCrop(input_size),\n",
        "    transforms.RandomHorizontalFlip(),\n",
        "    transforms.ToTensor(),\n",
        "    transforms.Normalize(mean, std)\n",
        "])\n",
        "\n",
        "transform_val = transforms.Compose([\n",
        "    transforms.Resize(64),\n",
        "    transforms.CenterCrop(input_size),\n",
        "    transforms.ToTensor(),\n",
        "    transforms.Normalize(mean, std)\n",
        "])\n",
        "\n",
        "train_dataset = datasets.ImageFolder(os.path.join(data_dir, 'train'), transform=transform_train)\n",
        "val_dataset = datasets.ImageFolder(os.path.join(data_dir, 'val'), transform=transform_val)\n",
        "\n",
        "train_loader = DataLoader(train_dataset, batch_size=batch_size, shuffle=True, num_workers=2)\n",
        "val_loader = DataLoader(val_dataset, batch_size=batch_size, shuffle=False, num_workers=2)\n"
      ],
      "metadata": {
        "id": "B07_PMbTYEuU"
      },
      "execution_count": 18,
      "outputs": []
    },
    {
      "cell_type": "code",
      "source": [
        "import torch\n",
        "import torch.nn as nn\n",
        "import torch.nn.functional as F\n",
        "\n",
        "\n",
        "class AlexNetTiny(nn.Module):\n",
        "    def __init__(self, num_classes=200):\n",
        "        super(AlexNetTiny, self).__init__()\n",
        "        self.features = nn.Sequential(\n",
        "            nn.Conv2d(3, 64, kernel_size=11, stride=4, padding=2),\n",
        "            nn.ReLU(inplace=True),\n",
        "            nn.MaxPool2d(kernel_size=3, stride=2),\n",
        "            nn.Conv2d(64, 192, kernel_size=5, padding=2),\n",
        "            nn.ReLU(inplace=True),\n",
        "            nn.MaxPool2d(kernel_size=3, stride=2),\n",
        "            nn.Conv2d(192, 384, kernel_size=3, padding=1),\n",
        "            nn.ReLU(inplace=True),\n",
        "            nn.Conv2d(384, 256, kernel_size=3, padding=1),\n",
        "            nn.ReLU(inplace=True),\n",
        "            nn.Conv2d(256, 256, kernel_size=3, padding=1),\n",
        "            nn.ReLU(inplace=True),\n",
        "            nn.MaxPool2d(kernel_size=3, stride=2),\n",
        "        )\n",
        "\n",
        "        # 🧠 Dynamically compute flattened size\n",
        "        with torch.no_grad():\n",
        "            dummy = torch.zeros(1, 3, 64, 64)  # (N, C, H, W)\n",
        "            dummy_out = self.features(dummy)\n",
        "            self.flattened_size = dummy_out.view(1, -1).shape[1]\n",
        "\n",
        "        self.classifier = nn.Sequential(\n",
        "            nn.Dropout(),\n",
        "            nn.Linear(self.flattened_size, 4096),\n",
        "            nn.ReLU(inplace=True),\n",
        "            nn.Dropout(),\n",
        "            nn.Linear(4096, 4096),\n",
        "            nn.ReLU(inplace=True),\n",
        "            nn.Linear(4096, num_classes)\n",
        "        )\n",
        "\n",
        "    def forward(self, x):\n",
        "        x = self.features(x)\n",
        "        x = x.view(x.size(0), -1)\n",
        "        x = self.classifier(x)\n",
        "        return x\n",
        "\n"
      ],
      "metadata": {
        "id": "HlgpxREEYEsI"
      },
      "execution_count": 19,
      "outputs": []
    },
    {
      "cell_type": "code",
      "source": [
        "def compute_top5_accuracy(model, dataloader):\n",
        "    model.eval()\n",
        "    top5_correct = 0\n",
        "    total = 0\n",
        "\n",
        "    with torch.no_grad():\n",
        "        for inputs, labels in dataloader:\n",
        "            inputs, labels = inputs.to(device), labels.to(device)\n",
        "            outputs = model(inputs)\n",
        "\n",
        "            # Get top-5 predictions\n",
        "            _, top5_preds = outputs.topk(5, dim=1)  # shape: [batch, 5]\n",
        "\n",
        "            # Compare with true labels\n",
        "            correct = top5_preds.eq(labels.view(-1, 1).expand_as(top5_preds))  # shape: [batch, 5]\n",
        "            top5_correct += correct.sum().item()\n",
        "            total += labels.size(0)\n",
        "\n",
        "    top5_acc = top5_correct / total\n",
        "    print(f\"✅ Top-5 Accuracy: {top5_acc * 100:.2f}%\")\n",
        "    return top5_acc\n"
      ],
      "metadata": {
        "id": "CH3d6ysrCU-p"
      },
      "execution_count": 20,
      "outputs": []
    },
    {
      "cell_type": "code",
      "source": [
        "import matplotlib.pyplot as plt\n",
        "\n",
        "def visualize_conv1_weights(model):\n",
        "    # Extract Conv1 weights (shape: [out_channels, in_channels, H, W])\n",
        "    weights = model.features[0].weight.data.clone().cpu()\n",
        "\n",
        "    num_filters = weights.shape[0]  # e.g., 64 or 96\n",
        "    plt.figure(figsize=(16, 8))\n",
        "\n",
        "    for i in range(min(num_filters, 8)):  # visualize first 8 filters\n",
        "        # Convert 3xHxW weights into HxW by averaging channels for visualization\n",
        "        weight_img = weights[i].mean(dim=0)  # shape: HxW\n",
        "\n",
        "        plt.subplot(2, 4, i+1)\n",
        "        plt.imshow(weight_img, cmap='gray')\n",
        "        plt.title(f\"Filter {i}\")\n",
        "        plt.axis('off')\n",
        "\n",
        "    plt.suptitle(\"Conv1 Filter Weights (Averaged over RGB Channels)\")\n",
        "    plt.tight_layout()\n",
        "    plt.show()\n"
      ],
      "metadata": {
        "id": "JWU85_ifEPoC"
      },
      "execution_count": 21,
      "outputs": []
    },
    {
      "cell_type": "code",
      "source": [
        "import torch.optim as optim\n",
        "from tqdm import tqdm\n",
        "\n",
        "device = torch.device(\"cuda\" if torch.cuda.is_available() else \"cpu\")\n",
        "model = AlexNetTiny(num_classes=200).to(device)\n",
        "\n",
        "criterion = nn.CrossEntropyLoss()\n",
        "optimizer = optim.SGD(model.parameters(), lr=0.01, momentum=0.9, weight_decay=5e-4)\n",
        "scheduler = optim.lr_scheduler.StepLR(optimizer, step_size=5, gamma=0.1)\n",
        "\n",
        "def evaluate(model):\n",
        "    model.eval()\n",
        "    val_loss = 0.0\n",
        "    correct1 = 0\n",
        "    correct5 = 0\n",
        "    total = 0\n",
        "\n",
        "    with torch.no_grad():\n",
        "        for inputs, labels in val_loader:\n",
        "            inputs, labels = inputs.to(device), labels.to(device)\n",
        "            outputs = model(inputs)\n",
        "            loss = criterion(outputs, labels)\n",
        "            val_loss += loss.item() * inputs.size(0)\n",
        "\n",
        "            _, preds = outputs.topk(5, dim=1, largest=True, sorted=True)\n",
        "            correct1 += (preds[:, 0] == labels).sum().item()\n",
        "            correct5 += sum([labels[i] in preds[i] for i in range(labels.size(0))])\n",
        "            total += labels.size(0)\n",
        "\n",
        "    loss = val_loss / total\n",
        "    top1_acc = 100 * correct1 / total\n",
        "    top5_acc = 100 * correct5 / total\n",
        "    print(f\"Val   Loss: {loss:.4f} | Top-1 Acc: {top1_acc:.2f}% | Top-5 Acc: {top5_acc:.2f}%\")\n",
        "\n",
        "\n",
        "def train_model(model, criterion, optimizer, scheduler, num_epochs=10):\n",
        "    for epoch in range(num_epochs):\n",
        "        print(f\"\\nEpoch {epoch+1}/{num_epochs}\")\n",
        "        model.train()\n",
        "        running_loss = 0.0\n",
        "        correct1 = 0\n",
        "        correct5 = 0\n",
        "        total = 0\n",
        "\n",
        "        for inputs, labels in tqdm(train_loader):\n",
        "            inputs, labels = inputs.to(device), labels.to(device)\n",
        "            optimizer.zero_grad()\n",
        "            outputs = model(inputs)\n",
        "            loss = criterion(outputs, labels)\n",
        "            loss.backward()\n",
        "            optimizer.step()\n",
        "\n",
        "            running_loss += loss.item() * inputs.size(0)\n",
        "            total += labels.size(0)\n",
        "\n",
        "            # 🔹 Top-1 and Top-5 accuracy\n",
        "            _, preds = outputs.topk(5, dim=1, largest=True, sorted=True)\n",
        "            correct1 += (preds[:, 0] == labels).sum().item()\n",
        "            correct5 += sum([labels[i] in preds[i] for i in range(labels.size(0))])\n",
        "\n",
        "        scheduler.step()\n",
        "\n",
        "        epoch_loss = running_loss / total\n",
        "        top1_acc = 100 * correct1 / total\n",
        "        top5_acc = 100 * correct5 / total\n",
        "\n",
        "        print(f\"Train Loss: {epoch_loss:.4f} | Top-1 Acc: {top1_acc:.2f}% | Top-5 Acc: {top5_acc:.2f}%\")\n",
        "\n",
        "        evaluate(model)\n",
        "\n",
        "train_model(model, criterion, optimizer, scheduler, num_epochs=10)\n"
      ],
      "metadata": {
        "colab": {
          "base_uri": "https://localhost:8080/"
        },
        "id": "SCjM5-TTYEp1",
        "outputId": "1e84f346-ee59-4eff-d0ff-7b0907197779"
      },
      "execution_count": 24,
      "outputs": [
        {
          "metadata": {
            "tags": null
          },
          "name": "stdout",
          "output_type": "stream",
          "text": [
            "\n",
            "Epoch 1/10\n"
          ]
        },
        {
          "metadata": {
            "tags": null
          },
          "name": "stderr",
          "output_type": "stream",
          "text": [
            "100%|██████████| 782/782 [01:20<00:00,  9.73it/s]"
          ]
        },
        {
          "metadata": {
            "tags": null
          },
          "name": "stdout",
          "output_type": "stream",
          "text": [
            "Train Loss: 5.2988 | Top-1 Acc: 0.45% | Top-5 Acc: 2.31%\n"
          ]
        },
        {
          "metadata": {
            "tags": null
          },
          "name": "stderr",
          "output_type": "stream",
          "text": [
            "\n"
          ]
        },
        {
          "metadata": {
            "tags": null
          },
          "name": "stdout",
          "output_type": "stream",
          "text": [
            "Val   Loss: 5.2973 | Top-1 Acc: 0.76% | Top-5 Acc: 2.96%\n",
            "\n",
            "Epoch 2/10\n"
          ]
        },
        {
          "metadata": {
            "tags": null
          },
          "name": "stderr",
          "output_type": "stream",
          "text": [
            "100%|██████████| 782/782 [01:19<00:00,  9.83it/s]"
          ]
        },
        {
          "metadata": {
            "tags": null
          },
          "name": "stdout",
          "output_type": "stream",
          "text": [
            "Train Loss: 5.2675 | Top-1 Acc: 0.62% | Top-5 Acc: 3.08%\n"
          ]
        },
        {
          "metadata": {
            "tags": null
          },
          "name": "stderr",
          "output_type": "stream",
          "text": [
            "\n"
          ]
        },
        {
          "metadata": {
            "tags": null
          },
          "name": "stdout",
          "output_type": "stream",
          "text": [
            "Val   Loss: 5.1997 | Top-1 Acc: 1.02% | Top-5 Acc: 5.11%\n",
            "\n",
            "Epoch 3/10\n"
          ]
        },
        {
          "metadata": {
            "tags": null
          },
          "name": "stderr",
          "output_type": "stream",
          "text": [
            "100%|██████████| 782/782 [01:19<00:00,  9.86it/s]"
          ]
        },
        {
          "metadata": {
            "tags": null
          },
          "name": "stdout",
          "output_type": "stream",
          "text": [
            "Train Loss: 5.1722 | Top-1 Acc: 1.07% | Top-5 Acc: 4.96%\n"
          ]
        },
        {
          "metadata": {
            "tags": null
          },
          "name": "stderr",
          "output_type": "stream",
          "text": [
            "\n"
          ]
        },
        {
          "metadata": {
            "tags": null
          },
          "name": "stdout",
          "output_type": "stream",
          "text": [
            "Val   Loss: 5.0770 | Top-1 Acc: 1.26% | Top-5 Acc: 6.48%\n",
            "\n",
            "Epoch 4/10\n"
          ]
        },
        {
          "metadata": {
            "tags": null
          },
          "name": "stderr",
          "output_type": "stream",
          "text": [
            "100%|██████████| 782/782 [01:18<00:00,  9.97it/s]"
          ]
        },
        {
          "metadata": {
            "tags": null
          },
          "name": "stdout",
          "output_type": "stream",
          "text": [
            "Train Loss: 5.0318 | Top-1 Acc: 1.83% | Top-5 Acc: 7.85%\n"
          ]
        },
        {
          "metadata": {
            "tags": null
          },
          "name": "stderr",
          "output_type": "stream",
          "text": [
            "\n"
          ]
        },
        {
          "metadata": {
            "tags": null
          },
          "name": "stdout",
          "output_type": "stream",
          "text": [
            "Val   Loss: 4.9073 | Top-1 Acc: 2.56% | Top-5 Acc: 10.41%\n",
            "\n",
            "Epoch 5/10\n"
          ]
        },
        {
          "metadata": {
            "tags": null
          },
          "name": "stderr",
          "output_type": "stream",
          "text": [
            "100%|██████████| 782/782 [01:20<00:00,  9.76it/s]"
          ]
        },
        {
          "metadata": {
            "tags": null
          },
          "name": "stdout",
          "output_type": "stream",
          "text": [
            "Train Loss: 4.9258 | Top-1 Acc: 2.52% | Top-5 Acc: 10.57%\n"
          ]
        },
        {
          "metadata": {
            "tags": null
          },
          "name": "stderr",
          "output_type": "stream",
          "text": [
            "\n"
          ]
        },
        {
          "metadata": {
            "tags": null
          },
          "name": "stdout",
          "output_type": "stream",
          "text": [
            "Val   Loss: 4.8734 | Top-1 Acc: 2.83% | Top-5 Acc: 11.82%\n",
            "\n",
            "Epoch 6/10\n"
          ]
        },
        {
          "metadata": {
            "tags": null
          },
          "name": "stderr",
          "output_type": "stream",
          "text": [
            "100%|██████████| 782/782 [01:18<00:00, 10.01it/s]"
          ]
        },
        {
          "metadata": {
            "tags": null
          },
          "name": "stdout",
          "output_type": "stream",
          "text": [
            "Train Loss: 4.8084 | Top-1 Acc: 3.58% | Top-5 Acc: 13.52%\n"
          ]
        },
        {
          "metadata": {
            "tags": null
          },
          "name": "stderr",
          "output_type": "stream",
          "text": [
            "\n"
          ]
        },
        {
          "metadata": {
            "tags": null
          },
          "name": "stdout",
          "output_type": "stream",
          "text": [
            "Val   Loss: 4.7231 | Top-1 Acc: 3.85% | Top-5 Acc: 15.14%\n",
            "\n",
            "Epoch 7/10\n"
          ]
        },
        {
          "metadata": {
            "tags": null
          },
          "name": "stderr",
          "output_type": "stream",
          "text": [
            "100%|██████████| 782/782 [01:20<00:00,  9.76it/s]"
          ]
        },
        {
          "metadata": {
            "tags": null
          },
          "name": "stdout",
          "output_type": "stream",
          "text": [
            "Train Loss: 4.7593 | Top-1 Acc: 4.03% | Top-5 Acc: 14.61%\n"
          ]
        },
        {
          "metadata": {
            "tags": null
          },
          "name": "stderr",
          "output_type": "stream",
          "text": [
            "\n"
          ]
        },
        {
          "metadata": {
            "tags": null
          },
          "name": "stdout",
          "output_type": "stream",
          "text": [
            "Val   Loss: 4.7049 | Top-1 Acc: 4.35% | Top-5 Acc: 15.80%\n",
            "\n",
            "Epoch 8/10\n"
          ]
        },
        {
          "metadata": {
            "tags": null
          },
          "name": "stderr",
          "output_type": "stream",
          "text": [
            "100%|██████████| 782/782 [01:19<00:00,  9.80it/s]"
          ]
        },
        {
          "metadata": {
            "tags": null
          },
          "name": "stdout",
          "output_type": "stream",
          "text": [
            "Train Loss: 4.7389 | Top-1 Acc: 4.23% | Top-5 Acc: 15.03%\n"
          ]
        },
        {
          "metadata": {
            "tags": null
          },
          "name": "stderr",
          "output_type": "stream",
          "text": [
            "\n"
          ]
        },
        {
          "metadata": {
            "tags": null
          },
          "name": "stdout",
          "output_type": "stream",
          "text": [
            "Val   Loss: 4.6260 | Top-1 Acc: 5.16% | Top-5 Acc: 17.55%\n",
            "\n",
            "Epoch 9/10\n"
          ]
        },
        {
          "metadata": {
            "tags": null
          },
          "name": "stderr",
          "output_type": "stream",
          "text": [
            "100%|██████████| 782/782 [01:20<00:00,  9.75it/s]"
          ]
        },
        {
          "metadata": {
            "tags": null
          },
          "name": "stdout",
          "output_type": "stream",
          "text": [
            "Train Loss: 4.7156 | Top-1 Acc: 4.32% | Top-5 Acc: 15.40%\n"
          ]
        },
        {
          "metadata": {
            "tags": null
          },
          "name": "stderr",
          "output_type": "stream",
          "text": [
            "\n"
          ]
        },
        {
          "metadata": {
            "tags": null
          },
          "name": "stdout",
          "output_type": "stream",
          "text": [
            "Val   Loss: 4.6151 | Top-1 Acc: 4.96% | Top-5 Acc: 17.55%\n",
            "\n",
            "Epoch 10/10\n"
          ]
        },
        {
          "output_type": "stream",
          "name": "stderr",
          "text": [
            "100%|██████████| 782/782 [01:20<00:00,  9.68it/s]"
          ]
        },
        {
          "output_type": "stream",
          "name": "stdout",
          "text": [
            "Train Loss: 4.7025 | Top-1 Acc: 4.60% | Top-5 Acc: 15.85%\n"
          ]
        },
        {
          "output_type": "stream",
          "name": "stderr",
          "text": [
            "\n"
          ]
        },
        {
          "output_type": "stream",
          "name": "stdout",
          "text": [
            "Val   Loss: 4.5912 | Top-1 Acc: 5.20% | Top-5 Acc: 18.35%\n"
          ]
        }
      ]
    },
    {
      "cell_type": "code",
      "source": [
        "compute_top5_accuracy(model, val_loader)\n"
      ],
      "metadata": {
        "id": "Ad-q9E3OCbB9",
        "outputId": "9e7f2cb7-cbff-4270-f1bc-0f5ebdaf1d79",
        "colab": {
          "base_uri": "https://localhost:8080/"
        }
      },
      "execution_count": 25,
      "outputs": [
        {
          "output_type": "stream",
          "name": "stdout",
          "text": [
            "✅ Top-5 Accuracy: 18.35%\n"
          ]
        },
        {
          "output_type": "execute_result",
          "data": {
            "text/plain": [
              "0.1835"
            ]
          },
          "metadata": {},
          "execution_count": 25
        }
      ]
    },
    {
      "cell_type": "code",
      "source": [
        "visualize_conv1_weights(model)\n"
      ],
      "metadata": {
        "id": "hK-L89PQESdq",
        "outputId": "9421519c-0fff-48e3-bece-11f6252edceb",
        "colab": {
          "base_uri": "https://localhost:8080/",
          "height": 699
        }
      },
      "execution_count": 26,
      "outputs": [
        {
          "output_type": "display_data",
          "data": {
            "text/plain": [
              "<Figure size 1600x800 with 8 Axes>"
            ],
            "image/png": "[encoded data removed]"
          },
          "metadata": {}
        }
      ]
    },
    {
      "cell_type": "code",
      "source": [
        "torch.save(model.state_dict(), \"/content/drive/MyDrive/alexnet_tiny_imagenet.pth\")\n"
      ],
      "metadata": {
        "id": "s1jZ86BdYEnl"
      },
      "execution_count": 27,
      "outputs": []
    },
    {
      "cell_type": "code",
      "source": [
        "import matplotlib.pyplot as plt\n",
        "\n",
        "epochs = [1, 2, 3]\n",
        "train_loss = [5.2987, 5.2264, 5.1056]\n",
        "val_loss = [5.2958, 5.1622, 4.9634]\n",
        "train_acc = [0.0048, 0.0084, 0.0132]\n",
        "val_acc = [0.0059, 0.0105, 0.0219]\n",
        "\n",
        "plt.figure(figsize=(12, 5))\n",
        "\n",
        "plt.subplot(1, 2, 1)\n",
        "plt.plot(epochs, train_loss, label='Train Loss')\n",
        "plt.plot(epochs, val_loss, label='Val Loss')\n",
        "plt.xlabel('Epoch')\n",
        "plt.ylabel('Loss')\n",
        "plt.title('Loss Curve')\n",
        "plt.legend()\n",
        "\n",
        "plt.subplot(1, 2, 2)\n",
        "plt.plot(epochs, train_acc, label='Train Acc')\n",
        "plt.plot(epochs, val_acc, label='Val Acc')\n",
        "plt.xlabel('Epoch')\n",
        "plt.ylabel('Accuracy')\n",
        "plt.title('Accuracy Curve')\n",
        "plt.legend()\n",
        "\n",
        "plt.tight_layout()\n",
        "plt.show()\n"
      ],
      "metadata": {
        "colab": {
          "base_uri": "https://localhost:8080/",
          "height": 507
        },
        "id": "msfdugKB8uK5",
        "outputId": "52ae4274-df49-47cd-8fe6-13e38ce56545"
      },
      "execution_count": 28,
      "outputs": [
        {
          "output_type": "display_data",
          "data": {
            "text/plain": [
              "<Figure size 1200x500 with 2 Axes>"
            ],
            "image/png": "[encoded data removed]"
          },
          "metadata": {}
        }
      ]
    },
    {
      "cell_type": "code",
      "source": [
        "import torch\n",
        "import matplotlib.pyplot as plt\n",
        "\n",
        "def visualize_feature_maps(model, input_tensor):\n",
        "    model.eval()\n",
        "    with torch.no_grad():\n",
        "        # Extract features after first conv layer\n",
        "        features = model.features[0](input_tensor.unsqueeze(0).to(device))\n",
        "        features = features.cpu().squeeze(0)\n",
        "\n",
        "        plt.figure(figsize=(16, 8))\n",
        "        for i in range(8):\n",
        "            plt.subplot(2, 4, i+1)\n",
        "            plt.imshow(features[i].numpy(), cmap='viridis')\n",
        "            plt.title(f'Filter {i}')\n",
        "            plt.axis('off')\n",
        "        plt.tight_layout()\n",
        "        plt.show()\n",
        "\n",
        "# 🔹 Load a sample image from val_loader\n",
        "sample_img, _ = next(iter(val_loader))  # get one batch\n",
        "input_tensor = sample_img[0]  # use first image in the batch\n",
        "\n",
        "# 🔹 Visualize\n",
        "visualize_feature_maps(model, input_tensor)\n"
      ],
      "metadata": {
        "id": "MDJOJLXB9lET",
        "outputId": "4a3d1570-f904-44e7-e1e4-a60e43cb32f9",
        "colab": {
          "base_uri": "https://localhost:8080/",
          "height": 698
        }
      },
      "execution_count": 29,
      "outputs": [
        {
          "output_type": "display_data",
          "data": {
            "text/plain": [
              "<Figure size 1600x800 with 8 Axes>"
            ],
            "image/png": "[encoded data removed]"
          },
          "metadata": {}
        }
      ]
    },
    {
      "cell_type": "code",
      "source": [],
      "metadata": {
        "id": "nt22011FCSEM"
      },
      "execution_count": null,
      "outputs": []
    }
  ]
}